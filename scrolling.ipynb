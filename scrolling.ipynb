{
  "nbformat": 4,
  "nbformat_minor": 0,
  "metadata": {
    "colab": {
      "name": "scrolling.ipynb",
      "provenance": [],
      "authorship_tag": "ABX9TyM8RvNce7YgPSZ5U03Z6Bh8",
      "include_colab_link": true
    },
    "kernelspec": {
      "name": "python3",
      "display_name": "Python 3"
    },
    "language_info": {
      "name": "python"
    }
  },
  "cells": [
    {
      "cell_type": "markdown",
      "metadata": {
        "id": "view-in-github",
        "colab_type": "text"
      },
      "source": [
        "<a href=\"https://colab.research.google.com/github/formazione/2dplatform/blob/main/scrolling.ipynb\" target=\"_parent\"><img src=\"https://colab.research.google.com/assets/colab-badge.svg\" alt=\"Open In Colab\"/></a>"
      ]
    },
    {
      "cell_type": "code",
      "execution_count": null,
      "metadata": {
        "id": "mOkwbtYEQBEQ"
      },
      "outputs": [],
      "source": [
        "from scene import *\n",
        "from math import exp\n",
        "from threading import Thread\n",
        "import datetime\n",
        "\n",
        "# example scrolling scene with inertial scrolling\n",
        "# basic scrolling example was by Dalorbi on the forums at:\n",
        "#    http://omz-software.com/pythonista/forums/discussion/213/scrolling-in-scene-module/p1\n",
        "# inertial scrolling added on by hroe\n",
        "\n",
        "class MyScene (Scene):\n",
        "\tdef setup(self):\n",
        "\t\tself.dx = self.size.w / 2\n",
        "\t\tself.dy = self.size.h / 2 + 10\n",
        "\t\tself.xy_velocity = None\n",
        "\t\tself.velocity_decay_timescale_seconds = 0.4\n",
        "\t\tself.max_retained_touch_points = 6\n",
        "\t\tself.min_velocity_points_per_second = 50\n",
        "\t\tself.cur_touch = None\n",
        "\n",
        "\tdef draw(self):\n",
        "\t\tif self.xy_velocity is not None and self.cur_touch is None:\n",
        "\t\t\tself.dx += self.xy_velocity[0] * self.dt\n",
        "\t\t\tself.dy += self.xy_velocity[1] * self.dt\n",
        "\t\t\tdecay = exp( - self.dt / self.velocity_decay_timescale_seconds )\n",
        "\t\t\tself.xy_velocity = (self.xy_velocity[0] * decay, self.xy_velocity[1] * decay)\n",
        "\t\t\tif ((abs(self.xy_velocity[0]) <= self.min_velocity_points_per_second) and\n",
        "\t\t\t    (abs(self.xy_velocity[1]) <= self.min_velocity_points_per_second)):\n",
        "\t\t\t    \tself.xy_velocity = None\n",
        "\t\tbackground(0, 0, 0)\n",
        "\t\ttranslate(self.dx, self.dy)\n",
        "\t\tfill(1, 1, 1)\n",
        "\t\tstroke(1, 1, 1)\n",
        "\t\tstroke_weight(3)\n",
        "\n",
        "\t\tfor x in range(-3000,3100,100):\n",
        "\t\t\tline(x,-3000,x,3000)\n",
        "\t\t\ttext(str(x), font_size = 30, x = x, y = 0, alignment = 5)\n",
        "\n",
        "\t\tfor y in range(-3000,3100,100):\n",
        "\t\t\tline(-3000,y,3000,y)\n",
        "\t\t\ttext(str(y), font_size = 30, x = 0, y = y, alignment = 5)\n",
        "\n",
        "\t\tfor i in range(-3000,3000,100):\n",
        "\t\t\timage('PC_Grass_Block',i,-125)\n",
        "\n",
        "\tdef touch_began(self, touch):\n",
        "\t\tif self.cur_touch is None:\n",
        "\t\t\t self.cur_touch = touch.touch_id\n",
        "\t\t\t self.xy_velocity = None\n",
        "\t\t\t self.touch_log = []\n",
        "\n",
        "\tdef touch_moved(self, touch):\n",
        "\t\tif touch.touch_id == self.cur_touch:\n",
        "\t\t\tself.dx += touch.location.x - touch.prev_location.x\n",
        "\t\t\tself.dy += touch.location.y - touch.prev_location.y\n",
        "\t\t\tself.touch_log.append((datetime.datetime.utcnow(), touch.location))\n",
        "\t\t\tself.touch_log = self.touch_log[-self.max_retained_touch_points:]\n",
        "\n",
        "\tdef touch_ended(self, touch):\n",
        "\t\tif touch.touch_id == self.cur_touch:\n",
        "\t\t\tself.xy_velocity = None\n",
        "\t\t\tif len(self.touch_log) >= 2:\n",
        "\t\t\t\tdt = (self.touch_log[-1][0] - self.touch_log[0][0]).total_seconds()\n",
        "\t\t\t\tif dt > 0:\n",
        "\t\t\t\t\tx_velocity = (self.touch_log[-1][1].x - self.touch_log[0][1].x) / dt\n",
        "\t\t\t\t\ty_velocity = (self.touch_log[-1][1].y - self.touch_log[0][1].y) / dt\n",
        "\t\t\t\t\tself.xy_velocity = (x_velocity, y_velocity)\n",
        "\t\t\tself.cur_touch = None\n",
        "\t\t\t\t\n",
        "run(MyScene())"
      ]
    }
  ]
}